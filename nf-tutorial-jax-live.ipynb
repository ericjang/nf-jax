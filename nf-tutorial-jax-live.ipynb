{
 "cells": [
  {
   "cell_type": "markdown",
   "metadata": {},
   "source": [
    "# Real-NVP in Jax (Demo)\n",
    "\n",
    "Real-NVP implementation in less than 100 lines of [JAX](https://github.com/google/jax)\n",
    "\n",
    "Author: Eric Jang"
   ]
  },
  {
   "cell_type": "code",
   "execution_count": 12,
   "metadata": {},
   "outputs": [],
   "source": [
    "# !pip install --upgrade jax jaxlib scikit-learn"
   ]
  },
  {
   "cell_type": "code",
   "execution_count": 11,
   "metadata": {},
   "outputs": [],
   "source": [
    "import jax.numpy as np\n",
    "from jax import random"
   ]
  },
  {
   "cell_type": "markdown",
   "metadata": {},
   "source": [
    "## Data\n",
    "\n",
    "$p(x)$"
   ]
  },
  {
   "cell_type": "code",
   "execution_count": 2,
   "metadata": {},
   "outputs": [
    {
     "data": {
      "text/plain": [
       "(-2, 2)"
      ]
     },
     "execution_count": 2,
     "metadata": {},
     "output_type": "execute_result"
    }
   ],
   "source": [
    "from sklearn import cluster, datasets, mixture\n",
    "from sklearn.preprocessing import StandardScaler\n",
    "import matplotlib.pyplot as plt\n",
    "n_samples = 2000\n",
    "noisy_moons = datasets.make_moons(n_samples=n_samples, noise=.05)\n",
    "X, y = noisy_moons\n",
    "X = StandardScaler().fit_transform(X)\n",
    "xlim, ylim = [-2, 2], [-2, 2]\n",
    "plt.scatter(X[:, 0], X[:, 1], s=10, color='red')\n",
    "plt.xlim(xlim)\n",
    "plt.ylim(ylim)"
   ]
  },
  {
   "cell_type": "code",
   "execution_count": 6,
   "metadata": {},
   "outputs": [
    {
     "name": "stderr",
     "output_type": "stream",
     "text": [
      "/usr/local/Cellar/python/3.7.3/Frameworks/Python.framework/Versions/3.7/lib/python3.7/site-packages/jax/lib/xla_bridge.py:130: UserWarning: No GPU/TPU found, falling back to CPU.\n",
      "  warnings.warn('No GPU/TPU found, falling back to CPU.')\n"
     ]
    }
   ],
   "source": [
    "# Initialize parameters, not committing to a batch shape\n",
    "rng = random.PRNGKey(0)"
   ]
  },
  {
   "cell_type": "code",
   "execution_count": 10,
   "metadata": {},
   "outputs": [],
   "source": [
    "# N(1, 1)\n",
    "X = random.normal(rng, (n_samples, 2)) + 1"
   ]
  },
  {
   "cell_type": "markdown",
   "metadata": {},
   "source": [
    "## Base Distribution"
   ]
  },
  {
   "cell_type": "code",
   "execution_count": 284,
   "metadata": {},
   "outputs": [],
   "source": [
    "def sample_n01(N):\n",
    "  return random.normal(rng, (N, self.D))\n",
    "\n",
    "def log_prob_n01(x):\n",
    "  return np.sum(-np.square(x)/2 - np.log(np.sqrt(2*np.pi)),axis=-1)"
   ]
  },
  {
   "cell_type": "code",
   "execution_count": 283,
   "metadata": {},
   "outputs": [
    {
     "data": {
      "text/plain": [
       "(array([ 24., 173., 477., 393., 144.,  97.,  90., 116., 136., 350.]),\n",
       " array([-3.747913 , -3.56515  , -3.382387 , -3.199624 , -3.0168612,\n",
       "        -2.8340983, -2.6513352, -2.4685724, -2.2858095, -2.1030464,\n",
       "        -1.9202836], dtype=float32),\n",
       " <a list of 10 Patch objects>)"
      ]
     },
     "execution_count": 283,
     "metadata": {},
     "output_type": "execute_result"
    },
    {
     "data": {
      "image/png": "[encoded data removed]",
      "text/plain": [
       "<Figure size 432x288 with 1 Axes>"
      ]
     },
     "metadata": {
      "needs_background": "light"
     },
     "output_type": "display_data"
    }
   ],
   "source": [
    "plt.hist(log_prob_n01(X))"
   ]
  },
  {
   "cell_type": "markdown",
   "metadata": {},
   "source": [
    "## Real-NVP\n",
    "\n",
    "Affine coupling layer\n",
    "\n",
    "$x_2=x_1$\n",
    "\n",
    "$y_2=x_1*e^{s(x_1)}+t(x_1)$"
   ]
  },
  {
   "cell_type": "code",
   "execution_count": 6,
   "metadata": {},
   "outputs": [],
   "source": [
    "from jax.experimental import stax # neural network library\n",
    "from jax.experimental.stax import Dense, Relu # neural network layers"
   ]
  },
  {
   "cell_type": "code",
   "execution_count": 109,
   "metadata": {},
   "outputs": [],
   "source": [
    "def nvp_forward(net_params, shift_and_log_scale_fn, x, flip=False):\n",
    "  # TODO"
   ]
  },
  {
   "cell_type": "code",
   "execution_count": 110,
   "metadata": {},
   "outputs": [],
   "source": [
    "def nvp_inverse(net_params, shift_and_log_scale_fn, y, flip=False):\n",
    "  # TODO"
   ]
  },
  {
   "cell_type": "markdown",
   "metadata": {},
   "source": [
    "\n",
    "$\\log p(x) = \\log p(f^{-1}(x)) + |\\log det J(f^{-1})(x)| $"
   ]
  },
  {
   "cell_type": "code",
   "execution_count": 199,
   "metadata": {},
   "outputs": [],
   "source": [
    "def init_nvp():\n",
    "  D = 2\n",
    "  net_init, net_apply = stax.serial(\n",
    "    Dense(512), Relu, Dense(512), Relu, Dense(D))\n",
    "  in_shape = (-1, D//2)\n",
    "  out_shape, net_params = net_init(rng, in_shape)\n",
    "  def shift_and_log_scale_fn(net_params, x1):\n",
    "    s = net_apply(net_params, x1)\n",
    "    return np.split(s, 2, axis=1)\n",
    "  return net_params, shift_and_log_scale_fn\n",
    "\n",
    "def sample_nvp(net_params, shift_log_scale_fn, base_sample_fn, N, flip=False):\n",
    "  x = base_sample_fn(N)\n",
    "  return nvp_forward(net_params, shift_log_scale_fn, x, flip=flip)\n",
    "\n",
    "def log_prob_nvp(net_params, shift_log_scale_fn, base_log_prob_fn, y, flip=False):\n",
    "  # TODO"
   ]
  },
  {
   "cell_type": "code",
   "execution_count": 201,
   "metadata": {},
   "outputs": [],
   "source": [
    "def init_nvp_chain(n=2):\n",
    "  flip = False\n",
    "  ps, configs = [], []\n",
    "  for i in range(n):\n",
    "    p, f = init_nvp()\n",
    "    ps.append(p), configs.append((f, flip))\n",
    "    flip = not flip\n",
    "  return ps, configs\n",
    "\n",
    "def sample_nvp_chain(ps, configs, base_sample_fn, N):\n",
    "  x = base_sample_fn(N)\n",
    "  for p, config in zip(ps, configs):\n",
    "    shift_log_scale_fn, flip = config\n",
    "    x = nvp_forward(p, shift_log_scale_fn, x, flip=flip)\n",
    "  return x\n",
    "\n",
    "def make_log_prob_fn(p, log_prob_fn, config):\n",
    "  shift_log_scale_fn, flip = config\n",
    "  return lambda x: log_prob_nvp(p, shift_log_scale_fn, log_prob_fn, x, flip=flip)\n",
    "\n",
    "def log_prob_nvp_chain(ps, configs, base_log_prob_fn, y):\n",
    "  log_prob_fn = base_log_prob_fn\n",
    "  for p, config in zip(ps, configs):\n",
    "    log_prob_fn = make_log_prob_fn(p, log_prob_fn, config)\n",
    "  return log_prob_fn(y)"
   ]
  },
  {
   "cell_type": "code",
   "execution_count": 202,
   "metadata": {},
   "outputs": [],
   "source": [
    "ps, cs = init_nvp_chain(4)\n",
    "y = sample_nvp_chain(ps, cs, dist, 1000)"
   ]
  },
  {
   "cell_type": "code",
   "execution_count": 203,
   "metadata": {},
   "outputs": [
    {
     "data": {
      "text/plain": [
       "(array([ 11.,  22.,  37.,  97., 193., 241., 122.,  58.,  96., 123.]),\n",
       " array([-4.3715196, -4.1426826, -3.9138453, -3.685008 , -3.456171 ,\n",
       "        -3.2273338, -2.9984965, -2.7696595, -2.5408223, -2.3119853,\n",
       "        -2.083148 ], dtype=float32),\n",
       " <a list of 10 Patch objects>)"
      ]
     },
     "execution_count": 203,
     "metadata": {},
     "output_type": "execute_result"
    },
    {
     "data": {
      "image/png": "[encoded data removed]",
      "text/plain": [
       "<Figure size 432x288 with 1 Axes>"
      ]
     },
     "metadata": {
      "needs_background": "light"
     },
     "output_type": "display_data"
    }
   ],
   "source": [
    "plt.hist(log_prob_nvp_chain(ps, cs, dist, X))"
   ]
  },
  {
   "cell_type": "markdown",
   "metadata": {},
   "source": [
    "## Train It"
   ]
  },
  {
   "cell_type": "code",
   "execution_count": 212,
   "metadata": {},
   "outputs": [],
   "source": [
    "from jax.experimental import optimizers\n",
    "from jax import jit, grad\n",
    "ps, cs = init_nvp_chain(4)\n",
    "\n",
    "def loss(params, batch):\n",
    "  return -np.mean(log_prob_nvp_chain(params, cs, log_prob_n01, batch))\n",
    "opt_init, opt_update, get_params = optimizers.adam(step_size=1e-4)\n",
    "\n",
    "@jit\n",
    "def step(i, opt_state, batch):\n",
    "  params = get_params(opt_state)\n",
    "  g = grad(loss)(params, batch)\n",
    "  return opt_update(i, g, opt_state)\n",
    "\n",
    "iters = int(1e4)\n",
    "data_generator = (X[random.choice(rng, X.shape[0], 100)] for _ in range(iters))\n",
    "opt_state = opt_init(ps)\n",
    "for i in range(iters):\n",
    "  opt_state = step(i, opt_state, next(data_generator))\n",
    "ps = get_params(opt_state)"
   ]
  },
  {
   "cell_type": "code",
   "execution_count": 213,
   "metadata": {},
   "outputs": [],
   "source": [
    "y = sample_nvp_chain(ps, cs, sample_n01, 1000)"
   ]
  },
  {
   "cell_type": "code",
   "execution_count": 214,
   "metadata": {},
   "outputs": [
    {
     "data": {
      "text/plain": [
       "DeviceArray(1.893881, dtype=float32)"
      ]
     },
     "execution_count": 214,
     "metadata": {},
     "output_type": "execute_result"
    }
   ],
   "source": [
    "y.max()"
   ]
  },
  {
   "cell_type": "code",
   "execution_count": 215,
   "metadata": {},
   "outputs": [
    {
     "data": {
      "image/png": "[encoded data removed]",
      "text/plain": [
       "<Figure size 432x288 with 1 Axes>"
      ]
     },
     "metadata": {
      "needs_background": "light"
     },
     "output_type": "display_data"
    }
   ],
   "source": [
    "plt.scatter(y[:, 0], y[:, 1], s=10, color='red')\n",
    "xlim, ylim = [-3, 3], [-3, 3]\n",
    "# plt.xlim(xlim)\n",
    "# plt.ylim(ylim)"
   ]
  },
  {
   "cell_type": "markdown",
   "metadata": {},
   "source": [
    "## Animation"
   ]
  },
  {
   "cell_type": "code",
   "execution_count": 225,
   "metadata": {},
   "outputs": [],
   "source": [
    "from matplotlib import animation, rc\n",
    "from IPython.display import HTML, Image"
   ]
  },
  {
   "cell_type": "code",
   "execution_count": null,
   "metadata": {},
   "outputs": [],
   "source": [
    "# !brew install imagemagick"
   ]
  },
  {
   "cell_type": "code",
   "execution_count": 275,
   "metadata": {},
   "outputs": [],
   "source": [
    "x = dist.sample(1000)\n",
    "values = [x]\n",
    "for p, config in zip(ps, cs):\n",
    "  shift_log_scale_fn, flip = config\n",
    "  x = nvp_forward(p, shift_log_scale_fn, x, flip=flip)\n",
    "  values.append(x)"
   ]
  },
  {
   "cell_type": "code",
   "execution_count": 276,
   "metadata": {},
   "outputs": [
    {
     "data": {
      "image/png": "[encoded data removed]",
      "text/plain": [
       "<Figure size 432x288 with 1 Axes>"
      ]
     },
     "metadata": {
      "needs_background": "light"
     },
     "output_type": "display_data"
    }
   ],
   "source": [
    "# First set up the figure, the axis, and the plot element we want to animate\n",
    "fig, ax = plt.subplots()\n",
    "ax.set_xlim(xlim)\n",
    "ax.set_ylim(ylim)\n",
    "\n",
    "y = values[0]\n",
    "paths = ax.scatter(y[:, 0], y[:, 1], s=10, color='red')"
   ]
  },
  {
   "cell_type": "code",
   "execution_count": 277,
   "metadata": {},
   "outputs": [],
   "source": [
    "# Reverse the list to view animation in reverse.\n",
    "# values = list(reversed(values))"
   ]
  },
  {
   "cell_type": "code",
   "execution_count": 278,
   "metadata": {},
   "outputs": [],
   "source": [
    "def animate(i):\n",
    "  l = i//48\n",
    "  t = (float(i%48))/48\n",
    "  y = (1-t)*values[l] + t*values[l+1]\n",
    "  paths.set_offsets(y)\n",
    "  return (paths,)"
   ]
  },
  {
   "cell_type": "code",
   "execution_count": 279,
   "metadata": {},
   "outputs": [],
   "source": [
    "anim = animation.FuncAnimation(fig, animate, frames=48*len(cs), interval=1, blit=False)"
   ]
  },
  {
   "cell_type": "code",
   "execution_count": 280,
   "metadata": {},
   "outputs": [],
   "source": [
    "anim.save('anim2.gif', writer='imagemagick', fps=60)"
   ]
  },
  {
   "cell_type": "code",
   "execution_count": 281,
   "metadata": {},
   "outputs": [
    {
     "data": {
      "text/html": [
       "<img src=\"anim2.gif\"/>"
      ],
      "text/plain": [
       "<IPython.core.display.Image object>"
      ]
     },
     "execution_count": 281,
     "metadata": {},
     "output_type": "execute_result"
    }
   ],
   "source": [
    "Image(url='anim2.gif')"
   ]
  }
 ],
 "metadata": {
  "kernelspec": {
   "display_name": "Python 3",
   "language": "python",
   "name": "python3"
  },
  "language_info": {
   "codemirror_mode": {
    "name": "ipython",
    "version": 3
   },
   "file_extension": ".py",
   "mimetype": "text/x-python",
   "name": "python",
   "nbconvert_exporter": "python",
   "pygments_lexer": "ipython3",
   "version": "3.7.3"
  }
 },
 "nbformat": 4,
 "nbformat_minor": 2
}
